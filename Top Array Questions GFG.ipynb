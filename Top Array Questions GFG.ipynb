{
 "cells": [
  {
   "cell_type": "raw",
   "id": "9aeb6e50",
   "metadata": {},
   "source": [
    "Q1) Find largest three DISTINCT elements in the array \n",
    "{10, 4, 3, 50, 23, 90, 90}\n",
    "O/P- 90,23,50"
   ]
  },
  {
   "cell_type": "code",
   "execution_count": null,
   "id": "305308fd",
   "metadata": {},
   "outputs": [],
   "source": [
    "def largestThree(arr):\n",
    "    arr.sort()\n",
    "    count=3\n",
    "    visited=None \n",
    "    result=[]\n",
    "    for i in range(len(arr)-1, -1,-1):\n",
    "        if count==0:\n",
    "            return result\n",
    "        if arr[i]!=visited:\n",
    "            result.append(arr[i])\n",
    "            count-=1\n",
    "            visited=arr[i]\n",
    "            \n",
    "sample1=[10,4,3,50,23,90,90]\n",
    "print(largestThree(sample1))"
   ]
  },
  {
   "cell_type": "markdown",
   "id": "53961a0f",
   "metadata": {},
   "source": [
    "Q) Find second largest element in array ?\n",
    "Ans)- "
   ]
  },
  {
   "cell_type": "code",
   "execution_count": null,
   "id": "52ad5b21",
   "metadata": {},
   "outputs": [],
   "source": [
    "def secondLargest(arr):\n",
    "    first, second= float('-inf'), float('-inf')\n",
    "    for i in range(len(arr)):\n",
    "        if arr[i]>first:\n",
    "            second=first\n",
    "            first=arr[i]\n",
    "        elif arr[i]> second:\n",
    "            second= arr[i]\n",
    "    return second\n",
    "    \n",
    "n=int(input())\n",
    "for i in range(n):\n",
    "    li=[int(x) for x in input().split()]\n",
    "    print(secondLargest(li))"
   ]
  },
  {
   "cell_type": "raw",
   "id": "30880cc5",
   "metadata": {},
   "source": [
    "Q) Push all the zeros to the end ?\n",
    "Ans- leetcode 283 (Two pointer)"
   ]
  },
  {
   "cell_type": "code",
   "execution_count": null,
   "id": "0b918585",
   "metadata": {},
   "outputs": [],
   "source": [
    "class Solution:\n",
    "    def moveZeroes(self, nums: List[int]) -> None:\n",
    "        i=0\n",
    "        for j in range(len(nums)):\n",
    "            if nums[j]!=0:\n",
    "                nums[i], nums[j]= nums[j], nums[i]\n",
    "                i+=1"
   ]
  },
  {
   "cell_type": "raw",
   "id": "6247f421",
   "metadata": {},
   "source": [
    "Q)Rearrange array such that even positioned are greater than odd- \n",
    "https://practice.geeksforgeeks.org/problems/rearrange-array-such-that-even-positioned-are-greater-than-odd4804/1?utm_source=geeksforgeeks&utm_medium=article_practice_tab&utm_campaign=article_practice_tab \n",
    "\n",
    "Given an array A of n elements, rearrange the array according to the following relations :\n",
    "A[i] >= A[i-1] , if i is even.\n",
    "A[i] <= A[i-1] , if i is odd.[Considering 1-indexed array]\n",
    "Return the resultant array.\n",
    "\n",
    "Example:\n",
    "\n",
    "Input 1:\n",
    "A[] = {1, 2, 2, 1}\n",
    "Output:\n",
    "1 2 1 2\n",
    "Explanation:\n",
    "Both 2 are at even positions and 1 at odd satisfying \n",
    "given condition \n",
    "\n",
    "Input 2:\n",
    "A[] = {1, 3, 2}\n",
    "Output:\n",
    "1 3 2\n",
    "Explanation:\n",
    "Here, the array is already sorted as per the conditions."
   ]
  },
  {
   "cell_type": "code",
   "execution_count": null,
   "id": "703e050e",
   "metadata": {},
   "outputs": [],
   "source": [
    "class Solution:\n",
    "    def assign (self, arr,  n) : \n",
    "        for i in range(len(arr)-1):\n",
    "            if i%2!=0:\n",
    "                if arr[i]<arr[i+1]:\n",
    "                    arr[i],arr[i+1]= arr[i+1], arr[i]\n",
    "                    \n",
    "            else:\n",
    "                if arr[i]>arr[i+1]:\n",
    "                    arr[i],arr[i+1]=arr[i+1],arr[i]\n",
    "        return arr                "
   ]
  },
  {
   "cell_type": "raw",
   "id": "609ff73a",
   "metadata": {},
   "source": [
    "Q) Given a sorted array of positive integers, rearrange the array alternately i.e first element should be a maximum value, at second position minimum value, at third position second max, at fourth position second min, and so on. \n",
    "Input: arr[] = {1, 2, 3, 4, 5, 6, 7} \n",
    "Output: arr[] = {7, 1, 6, 2, 5, 3, 4}\n",
    "\n",
    "Ans- Straight away- Apply 2 pointer technique"
   ]
  },
  {
   "cell_type": "raw",
   "id": "e6376a56",
   "metadata": {},
   "source": [
    "Q) Segregate Even and Odd (Leetcode)\n",
    "Given an array arr[] of integers, segregate even and odd numbers in the array. Such that all the even numbers should be present first, and then the odd numbers.\n",
    "\n",
    "Examples:  \n",
    "\n",
    "Input: arr[] = 1 9 5 3 2 6 7 11\n",
    "Output: 2 6 5 3 1 9 7 11\n",
    "\n",
    "Ans- Two Pointer Approach\n",
    "\n",
    "Intuition- If first element is odd, don't move it because we will swap it by even element.\n",
    "\n",
    "1) If first element is odd and second element is even - SWAP and increment both i,j\n",
    "2) If first element is odd and second element is odd- increase j only until j finds the even \n",
    "3) If the first element is even, it doesn;t matter what is the second element, so increment both i,j\n",
    "\n",
    "Conclusion- In only one case, i will not move and only j will move when i is odd and j is also odd."
   ]
  },
  {
   "cell_type": "code",
   "execution_count": null,
   "id": "5fb32707",
   "metadata": {},
   "outputs": [],
   "source": [
    "class Solution:\n",
    "    def sortArrayByParity(self, nums: List[int]) -> List[int]:\n",
    "        i,j=0,1\n",
    "        while j<len(nums):\n",
    "            if nums[i]%2!=0 and nums[j]%2==0:\n",
    "                nums[i] ,nums[j]= nums[j], nums[i]\n",
    "            elif nums[i]%2!=0:\n",
    "                j+=1\n",
    "                continue\n",
    "            i+=1\n",
    "            j+=1\n",
    "        return nums"
   ]
  },
  {
   "cell_type": "raw",
   "id": "34ae84aa",
   "metadata": {},
   "source": [
    "Q) Medium- (GFG)\n",
    "Given an array of elements of length N, ranging from 0 to N – 1. All elements may not be present in the array. If the element is not present then there will be -1 present in the array. Rearrange the array such that A[i] = i and if i is not present, display -1 at that place.\n",
    "\n",
    "Examples: \n",
    "\n",
    "Input : arr = {-1, -1, 6, 1, 9, 3, 2, -1, 4, -1}\n",
    "Output : [-1, 1, 2, 3, 4, -1, 6, -1, -1, 9]\n",
    "\n",
    "Logic-\n",
    "1) Sort elements in increasing order.\n",
    "2) Check if the number is at correct position, if not append -1\n",
    "3) s is the number we are checking in the array."
   ]
  },
  {
   "cell_type": "code",
   "execution_count": null,
   "id": "bb3134ad",
   "metadata": {},
   "outputs": [],
   "source": [
    "def rearrange(arr):\n",
    "    arr.sort()\n",
    "    i=0\n",
    "    result=list()\n",
    "    s=0\n",
    "    while i<len(arr):\n",
    "        if arr[i]==-1:\n",
    "            i+=1\n",
    "        else:\n",
    "            if arr[i]==s:\n",
    "                result.append(s)\n",
    "                s+=1\n",
    "                i+=1\n",
    "            else:\n",
    "                result.append(-1)\n",
    "                s+=1\n",
    "    while s<len(arr): #For remaining elements (s), s starts from 0 upto (length of array-1). \n",
    "        result.append(-1)\n",
    "        s+=1\n",
    "        \n",
    "    return result"
   ]
  },
  {
   "cell_type": "code",
   "execution_count": null,
   "id": "3661e383",
   "metadata": {},
   "outputs": [],
   "source": [
    "n=int(input())\n",
    "for i in range(n):\n",
    "    t=[int(x) for x in input().split()]\n",
    "    print(rearrange(t))"
   ]
  },
  {
   "cell_type": "raw",
   "id": "523a94b3",
   "metadata": {},
   "source": [
    "Q) Program for array left rotation by d positions.\n",
    "\n",
    "Given an array of integers arr[] of size N and an integer, the task is to rotate the array elements to the left by d positions.\n",
    "\n",
    "Examples:  \n",
    "\n",
    "Input: \n",
    "arr[] = {1, 2, 3, 4, 5, 6, 7}, d = 2\n",
    "Output: 3 4 5 6 7 1 2\n",
    "\n",
    "Approach 1)- I already saved in leetcode- question 189\n",
    "Let's discuss new approach.\n",
    "A2)- Using Extra Space- Less efficient Approach"
   ]
  },
  {
   "cell_type": "code",
   "execution_count": null,
   "id": "3147e60c",
   "metadata": {},
   "outputs": [],
   "source": [
    "class Solution:\n",
    "    #Function to rotate an array by d elements in counter-clockwise direction. \n",
    "    def rotateArr(self,A,D,N):\n",
    "        if D>len(A): #If D is greater than len(A)\n",
    "            D=D%len(A)\n",
    "        extraFirst=list()\n",
    "        for i in range(D):\n",
    "            x=A.pop(0)\n",
    "            extraFirst.append(x)\n",
    "        return A.extend(extraFirst)"
   ]
  },
  {
   "cell_type": "raw",
   "id": "1bbeb16b",
   "metadata": {},
   "source": [
    "Q) Given a sorted array arr[] of distinct integers. Sort the array into a wave-like array(In Place).\n",
    "In other words, arrange the elements into a sequence such that arr[1] >= arr[2] <= arr[3] >= arr[4] <= arr[5].....\n",
    "\n",
    "If there are multiple solutions, find the lexicographically smallest one.\n",
    "\n",
    "Note:The given array is sorted in ascending order, and you don't need to return anything to make changes in the original array itself.\n",
    "\n",
    "Example 1:\n",
    "\n",
    "Input:\n",
    "n = 5\n",
    "arr[] = {1,2,3,4,5}\n",
    "Output: 2 1 4 3 5\n",
    "Explanation: Array elements after \n",
    "sorting it in wave form are \n",
    "2 1 4 3 5."
   ]
  },
  {
   "cell_type": "markdown",
   "id": "e22313c1",
   "metadata": {},
   "source": [
    "Sol-\n",
    "1) Integers at even place must be greater than or equal to its next number\n",
    "2) Integers at odd place must be less than or equal to its next number.\n",
    "3) Check the above 2 conditions for every number. If the condition breaks, swap the adjacent numbers.\n",
    "4) This solution works if the arr is arranged in ascending order.\n",
    "\n",
    "OR \n",
    "1) We can optimise the above solution by just checking the number at even indexes. The number at odd index will automatically be adjusted.\n",
    "2) The number at even index must be greater than its next element and previous element."
   ]
  },
  {
   "cell_type": "raw",
   "id": "08228a5f",
   "metadata": {},
   "source": [
    "class Solution:\n",
    "    def convertToWave(self, n : int, a : List[int]) -> None:\n",
    "        i=0\n",
    "        while i<n-1:\n",
    "            if i%2==0:\n",
    "                if a[i]<a[i+1]:\n",
    "                    a[i], a[i+1]= a[i+1], a[i]\n",
    "                    \n",
    "            else:\n",
    "                if a[i]>a[i+1]:\n",
    "                    a[i], a[i+1]= a[i+1], a[i]\n",
    "                    \n",
    "            \n",
    "            i+=1\n",
    "        return a"
   ]
  },
  {
   "cell_type": "raw",
   "id": "f4b3ac2b",
   "metadata": {},
   "source": [
    "Q) Given two integer arrays of same size, “arr[]” and “index[]”, reorder elements in “arr[]” according to given index array. It is not allowed to given array arr’s length.\n",
    "\n",
    "Example: \n",
    "\n",
    "Input:  arr[]   = [10, 11, 12];\n",
    "            index[] = [1, 0, 2];\n",
    "Output: arr[]   = [11, 10, 12]\n",
    "           index[] = [0,  1,  2]  "
   ]
  },
  {
   "cell_type": "raw",
   "id": "ca12d946",
   "metadata": {},
   "source": [
    "1) It can easily be solved by using an extra array.\n",
    "2) The below solution is done without using an extra array."
   ]
  },
  {
   "cell_type": "code",
   "execution_count": 31,
   "id": "5f89c7c2",
   "metadata": {},
   "outputs": [
    {
     "name": "stdout",
     "output_type": "stream",
     "text": [
      "1\n",
      "10 9 8 1 5\n",
      "1 2 4 3 0\n",
      "[5, 10, 9, 1, 8]\n"
     ]
    }
   ],
   "source": [
    "def reorder(arr,index):\n",
    "    for i in range(len(arr)):\n",
    "        while i!= index[i]:\n",
    "            idx= index[i]\n",
    "            arr[i],arr[idx]= arr[idx], arr[i]\n",
    "            index[i], index[idx]= index[idx],index[i]\n",
    "   \n",
    "    return arr\n",
    "\n",
    "n=int(input())\n",
    "arr=[int(x) for x in input().split()]\n",
    "index=[int(y) for y in input().split()]\n",
    "print(reorder(arr,index))"
   ]
  },
  {
   "cell_type": "code",
   "execution_count": 23,
   "id": "ecfc9ff4",
   "metadata": {},
   "outputs": [
    {
     "name": "stdout",
     "output_type": "stream",
     "text": [
      "1\n",
      "0\n",
      "[1, 0, 2]\n"
     ]
    }
   ],
   "source": [
    "index=[1,0,2]\n",
    "i=0\n",
    "print(index[i])\n",
    "print(index[index[i]])\n",
    "index[i], index[index[i]]= index[index[i]], index[i]\n",
    "print(index)"
   ]
  },
  {
   "cell_type": "raw",
   "id": "b495a85e",
   "metadata": {},
   "source": [
    "Q) TRIANGLE\n",
    "Given an integer array nums, return the number of triplets chosen from the array that can make triangles if we take them as side lengths of a triangle.\n",
    "\n",
    " \n",
    "Example 1:\n",
    "\n",
    "Input: nums = [2,2,3,4]\n",
    "Output: 3\n",
    "Explanation: Valid combinations are: \n",
    "2,3,4 (using the first 2)\n",
    "2,3,4 (using the second 2)\n",
    "2,2,3"
   ]
  },
  {
   "cell_type": "raw",
   "id": "98ec4311",
   "metadata": {},
   "source": [
    "Logic-\n",
    "1) Sort the array in ascending order. a<b<c\n",
    "2) Now if a+b>c , the other 2 conditions are satisfied implicitly a+c>b and b+c>a\n",
    "3) So we just need to concentrate on a+b>c\n",
    "4) Assume the last number of array to fixed and second last number to b\n",
    "5) Start a from 0th index and check for condition. If it is satisfied, all the number starting from 0th index upto b-1 will satisfy this condition because array is in increasing order. \n",
    "6) Assume number at 0th index to be low, second last number-high and last number(c)- fixed\n",
    "7) Now we just need to decrease high by 1 one point. Fixed will stay there. We will check everything again\n",
    "8) We will go until low<high.\n",
    "\n",
    "2.1) After the loop gets completed, we will decrease fixed by 1 point and repeat the whole inner loop again.\n",
    "The outer loop (fixed) will go from last index of array to 2nd index of array.\n",
    "\n",
    "Basically ham fixed number ko fix mankar sare combinations bnayge and fir fixed ko kam krte jayge and uske liye same chez repeat.\n"
   ]
  },
  {
   "cell_type": "code",
   "execution_count": null,
   "id": "fa70fdab",
   "metadata": {},
   "outputs": [],
   "source": [
    "class Solution:\n",
    "    def triangleNumber(self, nums: List[int]) -> int:\n",
    "        nums.sort()\n",
    "        fixed=len(nums)-1\n",
    "        output=0\n",
    "        for k in range(len(nums)-1,1,-1):\n",
    "            low=0\n",
    "            high=k-1\n",
    "            while low<high:\n",
    "                if nums[low]+nums[high]> nums[k]:\n",
    "                    output+=high-low\n",
    "                    high-=1\n",
    "                else:\n",
    "                    low+=1\n",
    "            \n",
    "        return output "
   ]
  },
  {
   "cell_type": "raw",
   "id": "ee5d0cdf",
   "metadata": {},
   "source": [
    "Q) Leader \n",
    "Given an array A of positive integers. Your task is to find the leaders in the array. An element of array is leader if it is greater than or equal to all the elements to its right side. The rightmost element is always a leader. \n",
    "\n",
    "Example 1:\n",
    "\n",
    "Input:\n",
    "n = 6\n",
    "A[] = {16,17,4,3,5,2}\n",
    "Output: 17 5 2\n",
    "Explanation: The first leader is 17 \n",
    "as it is greater than all the elements\n",
    "to its right.  Similarly, the next \n",
    "leader is 5. The right most element \n",
    "is always a leader so it is also \n",
    "included."
   ]
  },
  {
   "cell_type": "raw",
   "id": "edd07138",
   "metadata": {},
   "source": [
    "Logic\n",
    "1) Start from second last element as we don't need to check last element.\n",
    "2) Assume that last element is maximum.\n",
    "3) If the second last element is greater than maximum, that is a leader. Now update the maximum\n",
    "4) Check third last and repeat same approach until you reach element at 0th index."
   ]
  },
  {
   "cell_type": "code",
   "execution_count": null,
   "id": "0968e18f",
   "metadata": {},
   "outputs": [],
   "source": [
    "def leaders(self, A, N):\n",
    "    maxNum= A[N-1]\n",
    "    output=list()\n",
    "    output.append(A[N-1])\n",
    "    for i in range(N-2,-1,-1):\n",
    "        if A[i]>=maxNum:\n",
    "            output.append(A[i])\n",
    "            maxNum=A[i]\n",
    "\n",
    "\n",
    "    output.reverse()\n",
    "\n",
    "    return output"
   ]
  },
  {
   "cell_type": "raw",
   "id": "e87b28d3",
   "metadata": {},
   "source": [
    "You are given an array Arr of size N. You have to find the K-th largest sum of contiguous subarray within the array elements.\n",
    "\n",
    " \n",
    "\n",
    "Example 1:\n",
    "\n",
    "Input:\n",
    "N = 3\n",
    "K = 2\n",
    "Arr = {3,2,1}\n",
    "Output:\n",
    "5\n",
    "Explanation:\n",
    "The different subarray sums we can get from the array\n",
    "are = {6,5,3,2,1}. Where 5 is the 2nd largest.\n",
    " \n",
    "\n",
    "Example 2:\n",
    "\n",
    "Input:\n",
    "N = 4\n",
    "K = 3\n",
    "Arr = {2,6,4,1}\n",
    "Output:\n",
    "11\n",
    "Explanation:\n",
    "The different subarray sums we can get from the array\n",
    "are = {13,12,11,10,8,6,5,4,2,1}. Where 11 is the 3rd largest."
   ]
  },
  {
   "cell_type": "code",
   "execution_count": null,
   "id": "0966ccc8",
   "metadata": {},
   "outputs": [],
   "source": []
  }
 ],
 "metadata": {
  "kernelspec": {
   "display_name": "Python 3 (ipykernel)",
   "language": "python",
   "name": "python3"
  },
  "language_info": {
   "codemirror_mode": {
    "name": "ipython",
    "version": 3
   },
   "file_extension": ".py",
   "mimetype": "text/x-python",
   "name": "python",
   "nbconvert_exporter": "python",
   "pygments_lexer": "ipython3",
   "version": "3.9.0"
  }
 },
 "nbformat": 4,
 "nbformat_minor": 5
}
